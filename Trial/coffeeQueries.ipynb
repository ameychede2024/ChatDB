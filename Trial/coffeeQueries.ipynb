{
 "cells": [
  {
   "cell_type": "code",
   "execution_count": 4,
   "metadata": {},
   "outputs": [],
   "source": [
    "import random\n",
    "import pandas as pd\n",
    "import mysql.connector"
   ]
  },
  {
   "cell_type": "code",
   "execution_count": 5,
   "metadata": {},
   "outputs": [],
   "source": [
    "def connect_to_mysql(host='localhost', user='shardul', password='password', database='CHATDB'):\n",
    "    try:\n",
    "        connection = mysql.connector.connect(\n",
    "            host=host,\n",
    "            user=user,\n",
    "            password=password,\n",
    "            database=database\n",
    "        )\n",
    "        return connection, connection.cursor()\n",
    "    except mysql.connector.Error as err:\n",
    "        print(f\"MySQL Connection Error: {err}\")\n",
    "        return None, None"
   ]
  },
  {
   "cell_type": "code",
   "execution_count": null,
   "metadata": {},
   "outputs": [],
   "source": [
    "def detect_pattern(user_input):\n",
    "    user_input = user_input.lower()\n",
    "\n",
    "    if \"highest\" in user_input and \"sales\" in user_input and \"store\" in user_input:\n",
    "        return \"total_store_sales\"\n",
    "    elif \"example\" in user_input and \"group by\" in user_input:\n",
    "        return \"example_grp_by\"\n",
    "    else:\n",
    "        return \"example\""
   ]
  },
  {
   "cell_type": "code",
   "execution_count": 12,
   "metadata": {},
   "outputs": [],
   "source": [
    "def generate_query(pattern, params):\n",
    "\n",
    "    if pattern == \"example\":\n",
    "        rnd = random.randint(0, 9)\n",
    "        sql_queries = [\n",
    "            \"SELECT * FROM CoffeeSales WHERE store_location = 'Lower Manhattan';\",\n",
    "            \"SELECT * FROM CoffeeSales WHERE product_category = 'Coffee';\",\n",
    "            \"SELECT * FROM CoffeeSales WHERE transaction_date = '1/1/2023';\",\n",
    "            \"SELECT * FROM CoffeeSales WHERE transaction_qty > 2;\",\n",
    "            \"SELECT * FROM CoffeeSales WHERE unit_price > 3.00;\",\n",
    "            \"SELECT * FROM CoffeeSales WHERE product_type = 'Organic brewed coffee';\",\n",
    "            \"SELECT * FROM CoffeeSales WHERE product_id = 79;\",\n",
    "            \"SELECT * FROM CoffeeSales WHERE product_category = 'Tea';\",\n",
    "            \"SELECT * FROM CoffeeSales WHERE product_detail LIKE '%Green Tea%';\",\n",
    "            \"SELECT * FROM CoffeeSales WHERE unit_price BETWEEN 2.00 AND 4.00;\"\n",
    "        ]\n",
    "\n",
    "        return {\"SQL\": sql_queries[rnd], \"MongoDB\": None}\n",
    "    elif pattern == \"example_grp_by\":\n",
    "        return {\"SQL\": None, \"MongoDB\": None}\n",
    "    elif pattern == \"total_store_sales\":\n",
    "        sql_query = \"SELECT store_id, store_location, ROUND(SUM(transaction_qty * unit_price), 2) AS total_store_sales, COUNT(DISTINCT transaction_id) AS total_transactions FROM CoffeeSales GROUP BY store_id,store_location ORDER BY total_store_sales DESC LIMIT 5;\"\n",
    "        mongo_query = {\n",
    "            \"$group\": { \"_id\": \"$Description\", \"totalSales\": { \"$sum\": { \"$multiply\": [\"$Quantity\", \"$UnitPrice\"] } } }\n",
    "        }\n",
    "        return {\"SQL\": sql_query, \"MongoDB\": mongo_query}\n",
    "\n",
    "    return None"
   ]
  },
  {
   "cell_type": "code",
   "execution_count": 13,
   "metadata": {},
   "outputs": [],
   "source": [
    "def run_sql_query(sql_query,cursor):\n",
    "    cursor.execute(sql_query)\n",
    "    results = cursor.fetchall()\n",
    "    return results"
   ]
  },
  {
   "cell_type": "code",
   "execution_count": 14,
   "metadata": {},
   "outputs": [],
   "source": [
    "def process_user_input(user_input):\n",
    "    # Detect pattern\n",
    "    pattern = detect_pattern(user_input)\n",
    "    if not pattern:\n",
    "        return \"No matching pattern found.\"\n",
    "\n",
    "    # Extract parameters\n",
    "    params = {}\n",
    "    if \"quantity greater\" in user_input:\n",
    "        quantity = int(user_input.split(\"greater than\")[-1].strip())\n",
    "        params[\"quantity\"] = quantity\n",
    "    elif \"top\" in user_input:\n",
    "        limit = int(user_input.split(\"top\")[-1].split()[0].strip())\n",
    "        params[\"limit\"] = limit\n",
    "    elif \"date\" in user_input:\n",
    "        date = user_input.split(\"date\")[-1].strip()\n",
    "        params[\"date\"] = date\n",
    "    elif \"customer\" in user_input:\n",
    "        customer_id = int(user_input.split(\"customer\")[-1].strip())\n",
    "        params[\"customer_id\"] = customer_id\n",
    "\n",
    "    # Generate and execute query\n",
    "    generated_query = generate_query(pattern, params)\n",
    "    if generated_query and \"SQL\" in generated_query:\n",
    "        sql_query = generated_query[\"SQL\"]\n",
    "\n",
    "        connection, cursor = connect_to_mysql()\n",
    "        if connection and cursor:\n",
    "            try:\n",
    "                result = run_sql_query(sql_query,cursor);\n",
    "            finally:\n",
    "                cursor.close()\n",
    "                connection.close()\n",
    "        return sql_query, result\n",
    "    \n",
    "    return generated_query"
   ]
  },
  {
   "cell_type": "code",
   "execution_count": 15,
   "metadata": {},
   "outputs": [
    {
     "name": "stdout",
     "output_type": "stream",
     "text": [
      "Generated SQL Query:\n",
      " SELECT store_id, store_location, ROUND(SUM(transaction_qty * unit_price), 2) AS total_store_sales, COUNT(DISTINCT transaction_id) AS total_transactions FROM CoffeeSales GROUP BY store_id,store_location ORDER BY total_store_sales DESC LIMIT 5;\n",
      "\n",
      "Query Result:\n",
      "[(8, \"Hell's Kitchen\", Decimal('15714.55'), 3441), (3, 'Astoria', Decimal('15591.05'), 3385), (5, 'Lower Manhattan', Decimal('14966.12'), 3174)]\n"
     ]
    }
   ],
   "source": [
    "# Test the system with an example input\n",
    "user_input = \"top 5 stores by total sales\"\n",
    "sql_query, result = process_user_input(user_input)\n",
    "print(\"Generated SQL Query:\\n\", sql_query)\n",
    "print(\"\\nQuery Result:\")\n",
    "print(result)"
   ]
  },
  {
   "cell_type": "code",
   "execution_count": null,
   "metadata": {},
   "outputs": [],
   "source": []
  }
 ],
 "metadata": {
  "kernelspec": {
   "display_name": "Python 3",
   "language": "python",
   "name": "python3"
  },
  "language_info": {
   "codemirror_mode": {
    "name": "ipython",
    "version": 3
   },
   "file_extension": ".py",
   "mimetype": "text/x-python",
   "name": "python",
   "nbconvert_exporter": "python",
   "pygments_lexer": "ipython3",
   "version": "3.10.12"
  }
 },
 "nbformat": 4,
 "nbformat_minor": 2
}
